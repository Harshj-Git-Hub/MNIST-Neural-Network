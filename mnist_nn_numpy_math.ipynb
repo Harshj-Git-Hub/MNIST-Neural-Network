{
  "nbformat": 4,
  "nbformat_minor": 0,
  "metadata": {
    "colab": {
      "provenance": []
    },
    "kernelspec": {
      "name": "python3",
      "display_name": "Python 3"
    },
    "language_info": {
      "name": "python"
    }
  },
  "cells": [
    {
      "cell_type": "code",
      "source": [
        "import numpy as np\n",
        "import pandas as pd\n",
        "from matplotlib import pyplot as plt"
      ],
      "metadata": {
        "id": "aiPhgG_czDqM"
      },
      "execution_count": 6,
      "outputs": []
    },
    {
      "cell_type": "code",
      "source": [
        "data = pd.read_csv('train.csv')"
      ],
      "metadata": {
        "id": "IL1CqqKZ43W4"
      },
      "execution_count": 35,
      "outputs": []
    },
    {
      "cell_type": "code",
      "source": [
        "data = np.array(data)\n",
        "m, n = data.shape\n",
        "np.random.shuffle(data)"
      ],
      "metadata": {
        "id": "vtWGWqsOzf9-"
      },
      "execution_count": 8,
      "outputs": []
    },
    {
      "cell_type": "code",
      "source": [
        "data_dev = data[0:1000].T\n",
        "Y_dev = data_dev[0]\n",
        "X_dev = data_dev[1:n]\n",
        "X_dev = X_dev / 255."
      ],
      "metadata": {
        "id": "wzN-H-ApzhCr"
      },
      "execution_count": 9,
      "outputs": []
    },
    {
      "cell_type": "code",
      "source": [
        "data_train = data[1000:m].T\n",
        "Y_train = data_train[0].astype(int)\n",
        "X_train = data_train[1:n]\n",
        "X_train = X_train / 255.\n",
        "_,m_train = X_train.shape"
      ],
      "metadata": {
        "id": "jIWwjjxMzksE"
      },
      "execution_count": 10,
      "outputs": []
    },
    {
      "cell_type": "code",
      "source": [
        "def init_params():\n",
        "    W1 = np.random.rand(10, 784) - 0.5\n",
        "    b1 = np.random.rand(10, 1) - 0.5\n",
        "    W2 = np.random.rand(10, 10) - 0.5\n",
        "    b2 = np.random.rand(10, 1) - 0.5\n",
        "    return W1, b1, W2, b2\n"
      ],
      "metadata": {
        "id": "ZPsEk7HgznZg"
      },
      "execution_count": 11,
      "outputs": []
    },
    {
      "cell_type": "code",
      "source": [
        "def ReLU(Z):\n",
        "    return np.maximum(Z, 0)"
      ],
      "metadata": {
        "id": "FViQ5srSzp4u"
      },
      "execution_count": 12,
      "outputs": []
    },
    {
      "cell_type": "code",
      "source": [
        "def softmax(Z):\n",
        "    A = np.exp(Z) / sum(np.exp(Z))\n",
        "    return A"
      ],
      "metadata": {
        "id": "w-Xz8nDHzsF-"
      },
      "execution_count": 13,
      "outputs": []
    },
    {
      "cell_type": "code",
      "source": [
        "def forward_prop(W1, b1, W2, b2, X):\n",
        "    Z1 = W1.dot(X) + b1\n",
        "    A1 = ReLU(Z1)\n",
        "    Z2 = W2.dot(A1) + b2\n",
        "    A2 = softmax(Z2)\n",
        "    return Z1, A1, Z2, A2"
      ],
      "metadata": {
        "id": "VFJROtALzxCM"
      },
      "execution_count": 14,
      "outputs": []
    },
    {
      "cell_type": "code",
      "source": [
        "def ReLU_deriv(Z):\n",
        "    return Z > 0\n"
      ],
      "metadata": {
        "id": "qU6G0e-Nz0qI"
      },
      "execution_count": 15,
      "outputs": []
    },
    {
      "cell_type": "code",
      "source": [
        "def one_hot(Y):\n",
        "    one_hot_Y = np.zeros((Y.size, Y.max() + 1))\n",
        "    one_hot_Y[np.arange(Y.size), Y] = 1\n",
        "    one_hot_Y = one_hot_Y.T\n",
        "    return one_hot_Y"
      ],
      "metadata": {
        "id": "Hlv4R9JRz1Hj"
      },
      "execution_count": 16,
      "outputs": []
    },
    {
      "cell_type": "code",
      "source": [
        "def backward_prop(Z1, A1, Z2, A2, W1, W2, X, Y):\n",
        "    one_hot_Y = one_hot(Y)\n",
        "    dZ2 = A2 - one_hot_Y\n",
        "    dW2 = 1 / m * dZ2.dot(A1.T)\n",
        "    db2 = 1 / m * np.sum(dZ2)\n",
        "    dZ1 = W2.T.dot(dZ2) * ReLU_deriv(Z1)\n",
        "    dW1 = 1 / m * dZ1.dot(X.T)\n",
        "    db1 = 1 / m * np.sum(dZ1)\n",
        "    return dW1, db1, dW2, db2"
      ],
      "metadata": {
        "id": "2_VASs9hz49Y"
      },
      "execution_count": 17,
      "outputs": []
    },
    {
      "cell_type": "code",
      "source": [
        "def update_params(W1, b1, W2, b2, dW1, db1, dW2, db2, alpha):\n",
        "    W1 = W1 - alpha * dW1\n",
        "    b1 = b1 - alpha * db1\n",
        "    W2 = W2 - alpha * dW2\n",
        "    b2 = b2 - alpha * db2\n",
        "    return W1, b1, W2, b2"
      ],
      "metadata": {
        "id": "uo5AGLTcz7J_"
      },
      "execution_count": 18,
      "outputs": []
    },
    {
      "cell_type": "code",
      "source": [
        "def get_predictions(A2):\n",
        "    return np.argmax(A2, 0)"
      ],
      "metadata": {
        "id": "d1Xov3pBz9Wp"
      },
      "execution_count": 19,
      "outputs": []
    },
    {
      "cell_type": "code",
      "source": [
        "def get_accuracy(predictions, Y):\n",
        "    print(predictions, Y)\n",
        "    return np.sum(predictions == Y) / Y.size\n"
      ],
      "metadata": {
        "id": "h-A3H_vH0CC4"
      },
      "execution_count": 20,
      "outputs": []
    },
    {
      "cell_type": "code",
      "source": [
        "def gradient_descent(X, Y, alpha, iterations):\n",
        "    W1, b1, W2, b2 = init_params()\n",
        "    for i in range(iterations):\n",
        "        Z1, A1, Z2, A2 = forward_prop(W1, b1, W2, b2, X)\n",
        "        dW1, db1, dW2, db2 = backward_prop(Z1, A1, Z2, A2, W1, W2, X, Y)\n",
        "        W1, b1, W2, b2 = update_params(W1, b1, W2, b2, dW1, db1, dW2, db2, alpha)\n",
        "        if i % 10 == 0:\n",
        "            print(\"Iteration: \", i)\n",
        "            predictions = get_predictions(A2)\n",
        "            print(get_accuracy(predictions, Y))\n",
        "    return W1, b1, W2, b2"
      ],
      "metadata": {
        "id": "JlpvWACI0Cyi"
      },
      "execution_count": 21,
      "outputs": []
    },
    {
      "cell_type": "code",
      "source": [
        "W1, b1, W2, b2 = gradient_descent(X_train, Y_train, 0.10, 500)"
      ],
      "metadata": {
        "colab": {
          "base_uri": "https://localhost:8080/"
        },
        "id": "gi1DGu-60GwO",
        "outputId": "a3fdb360-aeee-4266-9b71-36cf4fa02feb"
      },
      "execution_count": 22,
      "outputs": [
        {
          "output_type": "stream",
          "name": "stdout",
          "text": [
            "Iteration:  0\n",
            "[3 7 3 ... 7 3 3] [2 3 1 ... 9 4 8]\n",
            "0.1197560975609756\n",
            "Iteration:  10\n",
            "[9 6 2 ... 4 9 0] [2 3 1 ... 9 4 8]\n",
            "0.23897560975609755\n",
            "Iteration:  20\n",
            "[2 6 2 ... 4 9 8] [2 3 1 ... 9 4 8]\n",
            "0.33602439024390246\n",
            "Iteration:  30\n",
            "[2 6 2 ... 4 9 8] [2 3 1 ... 9 4 8]\n",
            "0.42217073170731706\n",
            "Iteration:  40\n",
            "[2 6 1 ... 4 9 8] [2 3 1 ... 9 4 8]\n",
            "0.4860243902439024\n",
            "Iteration:  50\n",
            "[2 6 1 ... 4 9 8] [2 3 1 ... 9 4 8]\n",
            "0.5364146341463415\n",
            "Iteration:  60\n",
            "[2 6 1 ... 4 9 8] [2 3 1 ... 9 4 8]\n",
            "0.5777073170731707\n",
            "Iteration:  70\n",
            "[2 5 1 ... 4 9 8] [2 3 1 ... 9 4 8]\n",
            "0.6115365853658536\n",
            "Iteration:  80\n",
            "[2 5 1 ... 4 9 8] [2 3 1 ... 9 4 8]\n",
            "0.6406829268292683\n",
            "Iteration:  90\n",
            "[2 5 1 ... 4 9 8] [2 3 1 ... 9 4 8]\n",
            "0.665219512195122\n",
            "Iteration:  100\n",
            "[2 5 1 ... 4 9 8] [2 3 1 ... 9 4 8]\n",
            "0.6872926829268293\n",
            "Iteration:  110\n",
            "[2 5 1 ... 4 9 8] [2 3 1 ... 9 4 8]\n",
            "0.704170731707317\n",
            "Iteration:  120\n",
            "[2 5 1 ... 9 9 8] [2 3 1 ... 9 4 8]\n",
            "0.719\n",
            "Iteration:  130\n",
            "[2 5 1 ... 9 9 8] [2 3 1 ... 9 4 8]\n",
            "0.7319756097560975\n",
            "Iteration:  140\n",
            "[2 5 1 ... 9 9 8] [2 3 1 ... 9 4 8]\n",
            "0.7436341463414634\n",
            "Iteration:  150\n",
            "[2 5 1 ... 9 9 8] [2 3 1 ... 9 4 8]\n",
            "0.7532682926829268\n",
            "Iteration:  160\n",
            "[2 5 1 ... 9 9 8] [2 3 1 ... 9 4 8]\n",
            "0.762219512195122\n",
            "Iteration:  170\n",
            "[2 5 1 ... 9 9 8] [2 3 1 ... 9 4 8]\n",
            "0.7693170731707317\n",
            "Iteration:  180\n",
            "[2 5 1 ... 9 9 8] [2 3 1 ... 9 4 8]\n",
            "0.7767560975609756\n",
            "Iteration:  190\n",
            "[2 5 1 ... 9 9 8] [2 3 1 ... 9 4 8]\n",
            "0.7830487804878049\n",
            "Iteration:  200\n",
            "[2 5 1 ... 9 9 8] [2 3 1 ... 9 4 8]\n",
            "0.7881463414634147\n",
            "Iteration:  210\n",
            "[2 5 1 ... 9 9 8] [2 3 1 ... 9 4 8]\n",
            "0.7928536585365854\n",
            "Iteration:  220\n",
            "[2 5 1 ... 9 9 8] [2 3 1 ... 9 4 8]\n",
            "0.7982926829268293\n",
            "Iteration:  230\n",
            "[2 5 1 ... 4 9 8] [2 3 1 ... 9 4 8]\n",
            "0.8020243902439025\n",
            "Iteration:  240\n",
            "[2 5 1 ... 9 9 8] [2 3 1 ... 9 4 8]\n",
            "0.8055609756097561\n",
            "Iteration:  250\n",
            "[2 5 1 ... 9 9 8] [2 3 1 ... 9 4 8]\n",
            "0.8088048780487805\n",
            "Iteration:  260\n",
            "[2 5 1 ... 9 9 8] [2 3 1 ... 9 4 8]\n",
            "0.8117073170731708\n",
            "Iteration:  270\n",
            "[2 5 1 ... 9 9 8] [2 3 1 ... 9 4 8]\n",
            "0.8149024390243902\n",
            "Iteration:  280\n",
            "[2 5 1 ... 9 9 8] [2 3 1 ... 9 4 8]\n",
            "0.8178780487804878\n",
            "Iteration:  290\n",
            "[2 5 1 ... 9 9 8] [2 3 1 ... 9 4 8]\n",
            "0.8210243902439024\n",
            "Iteration:  300\n",
            "[2 5 1 ... 9 9 8] [2 3 1 ... 9 4 8]\n",
            "0.8235853658536585\n",
            "Iteration:  310\n",
            "[2 0 1 ... 9 9 8] [2 3 1 ... 9 4 8]\n",
            "0.826\n",
            "Iteration:  320\n",
            "[2 0 1 ... 9 9 8] [2 3 1 ... 9 4 8]\n",
            "0.8287560975609756\n",
            "Iteration:  330\n",
            "[2 0 1 ... 9 9 8] [2 3 1 ... 9 4 8]\n",
            "0.8312195121951219\n",
            "Iteration:  340\n",
            "[2 0 1 ... 9 9 8] [2 3 1 ... 9 4 8]\n",
            "0.8334878048780487\n",
            "Iteration:  350\n",
            "[2 0 1 ... 9 9 8] [2 3 1 ... 9 4 8]\n",
            "0.835390243902439\n",
            "Iteration:  360\n",
            "[2 0 1 ... 9 9 8] [2 3 1 ... 9 4 8]\n",
            "0.837170731707317\n",
            "Iteration:  370\n",
            "[2 0 1 ... 9 9 8] [2 3 1 ... 9 4 8]\n",
            "0.8390243902439024\n",
            "Iteration:  380\n",
            "[2 0 1 ... 9 9 8] [2 3 1 ... 9 4 8]\n",
            "0.8406585365853658\n",
            "Iteration:  390\n",
            "[2 0 1 ... 9 9 8] [2 3 1 ... 9 4 8]\n",
            "0.8422439024390244\n",
            "Iteration:  400\n",
            "[2 0 1 ... 9 9 8] [2 3 1 ... 9 4 8]\n",
            "0.8438536585365853\n",
            "Iteration:  410\n",
            "[2 0 1 ... 9 9 8] [2 3 1 ... 9 4 8]\n",
            "0.8449024390243902\n",
            "Iteration:  420\n",
            "[2 0 1 ... 9 9 8] [2 3 1 ... 9 4 8]\n",
            "0.846390243902439\n",
            "Iteration:  430\n",
            "[2 0 1 ... 9 9 8] [2 3 1 ... 9 4 8]\n",
            "0.848\n",
            "Iteration:  440\n",
            "[2 0 1 ... 9 9 8] [2 3 1 ... 9 4 8]\n",
            "0.8492439024390244\n",
            "Iteration:  450\n",
            "[2 0 1 ... 9 9 8] [2 3 1 ... 9 4 8]\n",
            "0.8503658536585366\n",
            "Iteration:  460\n",
            "[2 0 1 ... 9 9 8] [2 3 1 ... 9 4 8]\n",
            "0.8512926829268292\n",
            "Iteration:  470\n",
            "[2 0 1 ... 9 9 8] [2 3 1 ... 9 4 8]\n",
            "0.8524878048780488\n",
            "Iteration:  480\n",
            "[2 0 1 ... 9 9 8] [2 3 1 ... 9 4 8]\n",
            "0.8536585365853658\n",
            "Iteration:  490\n",
            "[2 0 1 ... 9 9 8] [2 3 1 ... 9 4 8]\n",
            "0.8547317073170732\n"
          ]
        }
      ]
    },
    {
      "cell_type": "code",
      "source": [
        "def make_predictions(X, W1, b1, W2, b2):\n",
        "    _, _, _, A2 = forward_prop(W1, b1, W2, b2, X)\n",
        "    predictions = get_predictions(A2)\n",
        "    return predictions"
      ],
      "metadata": {
        "id": "8zzCGWD70QFx"
      },
      "execution_count": 23,
      "outputs": []
    },
    {
      "cell_type": "code",
      "source": [
        "def test_prediction(index, W1, b1, W2, b2):\n",
        "    current_image = X_train[:, index, None]\n",
        "    prediction = make_predictions(X_train[:, index, None], W1, b1, W2, b2)\n",
        "    label = Y_train[index]\n",
        "    print(\"Prediction: \", prediction)\n",
        "    print(\"Label: \", label)\n",
        "\n",
        "    current_image = current_image.reshape((28, 28)) * 255\n",
        "    plt.gray()\n",
        "    plt.imshow(current_image, interpolation='nearest')\n",
        "    plt.show()\n",
        "\n",
        "ev_predictions = make_predictions(X_dev, W1, b1, W2, b2)\n",
        "get_accuracy(ev_predictions, Y_dev)"
      ],
      "metadata": {
        "colab": {
          "base_uri": "https://localhost:8080/"
        },
        "id": "qPANW7er0T2u",
        "outputId": "a1087540-03ae-4500-a4d3-34a60f4b3cfb"
      },
      "execution_count": 32,
      "outputs": [
        {
          "output_type": "stream",
          "name": "stdout",
          "text": [
            "[5 0 0 7 1 2 0 4 8 0 8 2 2 6 9 3 3 2 7 5 6 2 9 7 0 2 3 9 7 5 0 1 0 7 3 1 8\n",
            " 3 6 1 0 0 3 3 1 3 2 4 9 7 4 4 8 2 6 1 6 4 1 6 0 8 2 5 5 1 5 4 3 9 4 3 5 1\n",
            " 8 9 0 7 5 9 7 7 7 6 7 6 5 4 5 0 6 0 0 7 2 2 0 5 4 9 3 6 7 4 6 2 6 2 4 4 0\n",
            " 9 6 5 8 6 4 7 8 4 1 9 2 4 3 4 8 6 3 3 6 0 1 0 5 0 9 7 1 9 8 1 2 9 6 3 9 0\n",
            " 5 8 8 6 7 1 3 3 7 1 9 2 1 4 2 7 6 8 8 1 4 0 4 8 6 6 8 3 1 0 6 9 2 3 2 8 2\n",
            " 1 0 6 4 5 4 9 9 9 3 4 8 1 3 2 5 1 1 4 5 1 1 8 5 4 8 6 2 4 9 8 3 3 2 7 2 6\n",
            " 3 5 4 0 2 0 0 0 6 7 8 0 3 9 0 8 5 8 0 9 6 1 9 4 5 3 4 2 0 5 9 2 5 3 0 1 6\n",
            " 2 1 1 1 9 3 7 8 9 1 0 5 8 4 8 0 0 8 9 8 4 4 7 0 1 9 9 1 2 8 7 6 7 4 9 2 0\n",
            " 0 8 9 5 9 7 3 4 3 4 4 7 0 9 1 2 0 7 9 2 4 9 3 8 1 4 3 2 2 1 0 9 8 3 8 1 4\n",
            " 0 5 3 0 6 4 1 1 2 1 2 6 6 5 8 7 1 9 6 3 8 9 0 1 3 0 4 7 6 7 1 0 7 1 4 9 7\n",
            " 6 9 0 9 7 2 2 2 7 9 9 9 6 7 5 9 9 3 0 3 4 2 6 0 7 0 0 5 1 6 1 4 7 3 4 3 0\n",
            " 0 0 6 7 7 4 9 4 2 4 7 9 3 9 0 6 9 3 7 4 8 3 6 8 5 6 1 7 7 7 6 8 1 3 4 5 7\n",
            " 7 9 7 7 0 6 3 2 1 2 2 3 7 2 9 6 1 3 2 7 0 2 2 2 1 8 1 3 7 7 2 4 4 6 9 0 0\n",
            " 5 2 7 7 0 9 3 9 1 2 4 9 4 7 5 5 0 4 1 4 2 2 0 9 6 3 2 2 8 5 5 3 2 4 1 2 6\n",
            " 1 7 0 7 7 3 9 7 1 4 6 3 5 8 9 4 9 3 8 6 2 3 0 9 5 3 7 0 8 6 7 1 8 1 9 2 5\n",
            " 0 7 6 2 5 7 3 3 7 6 7 0 3 4 7 0 3 5 1 8 8 7 1 5 0 3 7 0 5 0 8 6 3 1 1 0 6\n",
            " 6 0 0 7 5 7 0 3 1 1 9 6 3 0 1 2 2 1 2 3 0 5 0 4 9 6 3 3 8 0 0 0 4 2 3 6 9\n",
            " 0 1 8 7 2 6 8 3 2 8 1 8 2 9 6 1 6 1 8 5 9 1 3 5 9 5 0 3 9 3 6 1 0 0 3 5 1\n",
            " 9 4 7 9 1 4 2 2 2 8 5 0 0 7 2 6 7 7 7 6 0 0 2 6 6 7 4 5 7 5 3 2 4 0 6 0 4\n",
            " 3 0 6 8 1 1 1 2 3 4 1 1 5 2 4 9 3 1 3 3 3 9 6 1 3 1 3 0 6 5 2 2 7 8 6 8 4\n",
            " 5 9 2 2 0 6 1 1 0 3 9 0 0 7 4 0 2 7 1 3 7 1 0 9 7 9 1 9 6 1 1 3 2 3 4 8 7\n",
            " 6 6 2 9 4 5 0 3 7 4 8 3 1 3 3 9 4 0 3 2 3 8 6 5 4 4 0 8 3 2 5 6 3 6 8 7 9\n",
            " 7 3 5 4 7 8 9 9 9 0 7 6 2 2 4 6 3 3 1 3 0 3 4 9 2 4 0 9 2 9 6 4 8 7 1 5 6\n",
            " 7 4 3 6 8 1 5 5 0 0 2 8 3 4 9 4 5 6 0 9 1 7 2 0 6 3 9 3 6 9 1 0 3 7 1 9 8\n",
            " 6 0 7 6 1 1 6 1 6 9 4 0 1 1 4 4 6 0 4 7 7 0 7 6 4 9 0 9 1 4 9 3 3 7 0 7 0\n",
            " 2 1 0 0 2 1 9 9 9 6 6 9 6 1 7 4 2 0 8 5 1 3 5 7 7 7 4 4 5 3 9 0 6 7 6 7 2\n",
            " 1 1 6 6 5 5 2 4 4 7 0 3 2 7 1 8 8 0 2 6 3 3 0 5 9 1 2 3 2 2 6 3 9 1 7 3 3\n",
            " 4] [6 0 0 7 1 2 0 4 8 0 8 2 2 6 9 3 3 2 7 0 6 2 9 7 0 2 9 9 7 5 0 1 0 7 3 1 8\n",
            " 3 6 1 0 0 3 3 1 2 2 4 4 7 4 4 8 2 6 1 6 4 2 6 0 8 2 8 5 1 5 4 3 9 9 3 5 1\n",
            " 8 4 0 7 5 9 6 7 7 6 7 6 5 4 5 0 6 0 0 7 2 2 0 5 9 2 3 6 7 4 6 2 6 2 4 4 0\n",
            " 9 6 5 8 4 4 7 8 4 1 9 2 4 3 4 8 4 5 3 6 0 1 0 5 0 9 7 1 9 8 1 2 9 6 3 9 2\n",
            " 5 8 8 6 9 1 3 3 7 1 9 2 1 1 2 7 6 8 8 1 4 0 4 8 6 6 7 3 1 0 4 9 2 3 2 8 2\n",
            " 1 5 6 5 3 4 9 9 9 8 4 3 1 3 2 5 1 7 4 3 1 7 1 5 4 8 6 2 4 4 8 3 3 2 7 2 8\n",
            " 3 5 4 0 5 0 0 0 6 7 8 0 2 9 0 8 5 3 0 9 6 1 9 6 5 3 4 2 0 5 9 7 5 3 0 1 6\n",
            " 2 1 1 7 4 3 7 8 9 1 0 5 5 4 8 0 0 8 9 8 4 4 7 0 1 9 9 1 2 8 9 6 7 4 9 7 0\n",
            " 0 8 4 5 4 7 2 4 3 4 4 7 0 9 1 2 0 7 9 2 4 9 3 8 1 4 3 2 2 1 0 9 2 3 8 1 4\n",
            " 0 5 8 0 6 4 1 1 2 1 2 6 6 5 8 7 1 9 6 3 8 9 0 1 8 0 4 7 6 7 1 0 7 1 4 7 7\n",
            " 6 9 0 3 7 2 2 2 7 9 9 9 6 7 5 9 9 3 0 3 4 2 6 0 7 0 0 5 1 6 1 4 7 3 4 3 0\n",
            " 0 0 6 7 7 4 7 4 2 9 7 9 3 9 0 6 9 2 7 4 8 3 6 8 5 6 1 7 7 7 6 5 1 3 4 9 0\n",
            " 7 9 7 7 0 6 3 2 1 9 2 3 6 2 9 6 1 3 2 7 0 2 2 2 2 8 1 3 7 7 2 8 4 6 9 0 0\n",
            " 5 2 7 9 0 9 3 9 1 2 4 9 5 7 9 5 0 4 1 4 2 2 0 9 6 3 2 2 8 5 5 3 2 4 1 2 6\n",
            " 1 7 0 7 7 6 5 7 1 4 6 3 5 5 9 4 9 9 8 6 2 3 0 9 5 3 7 0 8 2 7 7 8 1 9 2 5\n",
            " 0 7 6 2 8 7 3 0 7 6 7 0 3 4 7 0 3 5 1 8 8 7 1 5 5 3 7 0 8 0 8 6 3 1 1 0 6\n",
            " 6 0 0 7 5 7 0 3 1 1 9 6 3 0 1 2 2 1 2 3 0 5 0 7 9 6 3 3 8 0 0 0 6 2 3 6 9\n",
            " 3 1 2 7 2 6 8 3 2 8 1 5 9 9 6 1 6 2 8 0 9 1 6 5 9 5 0 5 9 3 6 1 7 0 3 8 1\n",
            " 9 4 7 9 1 4 2 2 2 1 5 0 6 7 2 6 7 7 4 6 0 0 2 6 6 7 4 5 7 3 3 2 4 0 6 0 4\n",
            " 3 0 6 8 1 1 1 2 3 4 1 1 5 2 4 9 3 1 3 3 3 9 6 1 3 1 3 0 6 5 5 2 7 8 6 8 4\n",
            " 5 9 8 2 0 6 1 1 0 3 9 0 0 7 4 7 6 7 1 3 7 1 0 9 7 9 1 9 6 1 1 3 2 5 4 8 7\n",
            " 6 6 8 1 4 6 0 3 9 4 2 3 1 3 3 9 4 0 3 2 3 8 6 5 4 4 0 8 3 2 8 6 3 6 8 8 9\n",
            " 7 3 5 2 9 8 9 9 9 0 7 6 2 2 4 6 3 3 1 3 0 3 4 9 2 4 0 7 2 9 6 4 2 7 1 5 5\n",
            " 7 4 3 5 8 1 8 5 0 0 7 8 5 4 9 4 5 6 0 9 4 9 2 0 6 3 9 3 6 4 1 0 3 7 1 9 8\n",
            " 6 0 7 6 1 1 6 7 6 9 2 0 1 1 4 4 2 0 4 7 5 0 7 6 8 9 0 9 1 9 9 3 3 7 0 9 0\n",
            " 4 1 0 0 2 1 9 9 9 0 6 9 6 1 7 4 2 0 8 5 1 3 3 7 7 7 4 4 5 3 9 0 6 7 6 7 7\n",
            " 1 1 6 6 5 5 2 4 9 7 0 3 2 7 7 4 8 0 2 6 3 3 0 5 9 1 9 3 2 2 6 3 4 1 7 3 3\n",
            " 4]\n"
          ]
        },
        {
          "output_type": "execute_result",
          "data": {
            "text/plain": [
              "0.872"
            ]
          },
          "metadata": {},
          "execution_count": 32
        }
      ]
    },
    {
      "cell_type": "code",
      "source": [
        "test_prediction(1, W1, b1, W2, b2)"
      ],
      "metadata": {
        "colab": {
          "base_uri": "https://localhost:8080/",
          "height": 465
        },
        "id": "3Tfqs6650YrU",
        "outputId": "c7cf42bf-8c23-42be-f4bf-63f9f5cd1771"
      },
      "execution_count": 33,
      "outputs": [
        {
          "output_type": "stream",
          "name": "stdout",
          "text": [
            "Prediction:  [0]\n",
            "Label:  3\n"
          ]
        },
        {
          "output_type": "display_data",
          "data": {
            "text/plain": [
              "<Figure size 640x480 with 1 Axes>"
            ],
            "image/png": "[encoded data removed]"
          },
          "metadata": {}
        }
      ]
    }
  ]
}